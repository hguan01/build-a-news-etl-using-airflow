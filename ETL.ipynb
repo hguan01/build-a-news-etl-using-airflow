{
 "cells": [
  {
   "cell_type": "markdown",
   "metadata": {},
   "source": [
    "## Build a News ETL Data Pipeline Using Python and SQLite"
   ]
  },
  {
   "cell_type": "markdown",
   "metadata": {},
   "source": [
    "### Task 1: Import Libraries and Connect to the News API"
   ]
  },
  {
   "cell_type": "code",
   "execution_count": 1,
   "metadata": {},
   "outputs": [],
   "source": [
    "import pandas as pd\n",
    "import sqlite3\n",
    "import logging\n",
    "from newsapi import NewsApiClient"
   ]
  },
  {
   "cell_type": "code",
   "execution_count": 2,
   "metadata": {},
   "outputs": [],
   "source": [
    "news_api_key = \"<YOUR_NEWS_API_KEY>\" \n",
    "news_api = NewsApiClient(api_key=news_api_key)"
   ]
  },
  {
   "cell_type": "markdown",
   "metadata": {},
   "source": [
    "### Task 2: Retrieve and Print News Articles"
   ]
  },
  {
   "cell_type": "code",
   "execution_count": 9,
   "metadata": {},
   "outputs": [
    {
     "name": "stdout",
     "output_type": "stream",
     "text": [
      "[{'source': {'id': None, 'name': 'C21media.net'}, 'author': 'Jonathan Webdale', 'title': 'AI content licensing outfit Calliope Networks snapped up by New York newbie Protege', 'description': 'Calliope Networks, the Los Angeles-based start-up positioning itself as an intermediary between content owners and AI companies willing to pay millions for licensed film and TV, has been snapped up by New York-headquartered Protege.', 'url': 'https://www.c21media.net/news/ai-content-licensing-outfit-calliope-networks-snapped-up-by-new-york-newbie-protege/', 'urlToImage': 'https://cdn.c21media.net/wp-content/uploads/2024/12/davis-and-samuals.jpg', 'publishedAt': '2024-12-18T16:30:16Z', 'content': 'This premium content is only accessible with the correct C21 subscription.If you already have a subscription, click here to sign in.\\r\\nIf you do not have a current subscription, click here to view our… [+104 chars]'}, {'source': {'id': None, 'name': 'Gizmodo.com'}, 'author': 'Joe Tilleli', 'title': 'This AI-Powered Oral-B Electric Toothbrush Is Now 50% Off, Its Lowest Price Ever for Christmas', 'description': 'Amazon has slashed the price of the Oral-B Genius X Limited electric toothbrush to just $99.99.', 'url': 'https://gizmodo.com/this-ai-powered-oral-b-electric-toothbrush-is-now-50-off-its-lowest-price-ever-for-christmas-2000540061', 'urlToImage': 'https://gizmodo.com/app/uploads/2024/12/OralBAIToothbrush.jpg', 'publishedAt': '2024-12-18T16:30:13Z', 'content': 'If you were hoping to treat yourself to something new this past Black Friday or Cyber Weekbut for one reason or another let the big sales event come and go without getting anythingyou’re not out of l… [+2246 chars]'}, {'source': {'id': 'ansa', 'name': 'ANSA.it'}, 'author': None, 'title': 'Trovati e raccolti diversi corpi a Damasco, Siria', 'description': 'epa11783866 Members of the Syrian Civil Defense group, the White Helmets, load human remains in body bag on a truck in the Sayyida Zeinab district of Damascus, Syria, 18 December 2024. (ANSA)', 'url': 'https://www.ansa.it/sito/photogallery/primopiano/2024/12/18/trovati-e-raccolti-diversi-corpi-a-damasco-siria_353cc5fc-011f-4ffe-b912-5ec98ff3bef1.html', 'urlToImage': 'https://www.ansa.it/webimages/img_700/2024/12/18/24eb67bd5e4e851d3171feb49173ea3f.jpg', 'publishedAt': '2024-12-18T16:30:06Z', 'content': 'Se hai scelto di non accettare i cookie di profilazione e tracciamento, puoi aderire all’abbonamento \"Consentless\" a un costo molto accessibile, oppure scegliere un altro abbonamento per accedere ad … [+320 chars]'}]\n"
     ]
    }
   ],
   "source": [
    "def extract_news_data():\n",
    "    try:\n",
    "        result = news_api.get_everything(q=\"AI\", language=\"en\",sort_by='publishedAt')\n",
    "        logging.info(\"Connection is successful.\")\n",
    "        return result[\"articles\"]\n",
    "    except:\n",
    "        logging.error(\"Connection is unsuccessful.\")\n",
    "        return None\n",
    "\n",
    "articles = extract_news_data()\n",
    "\n",
    "print(articles[:3])"
   ]
  },
  {
   "cell_type": "markdown",
   "metadata": {},
   "source": [
    "### Task 3: Clean Author Column"
   ]
  },
  {
   "cell_type": "code",
   "execution_count": 10,
   "metadata": {},
   "outputs": [],
   "source": [
    "def clean_author_column(text):\n",
    "    try:\n",
    "        return text.split(\",\")[0].title()\n",
    "    except AttributeError:\n",
    "        return \"No Author\""
   ]
  },
  {
   "cell_type": "markdown",
   "metadata": {},
   "source": [
    "### Task 4: Transform News Data"
   ]
  },
  {
   "cell_type": "code",
   "execution_count": 11,
   "metadata": {},
   "outputs": [
    {
     "name": "stdout",
     "output_type": "stream",
     "text": [
      "           Source           Author Name  \\\n",
      "0    C21media.net      Jonathan Webdale   \n",
      "1     Gizmodo.com           Joe Tilleli   \n",
      "2         ANSA.it             No Author   \n",
      "3      TechCrunch           Sarah Perez   \n",
      "4     TalkAndroid         Ayomide Sadiq   \n",
      "..            ...                   ...   \n",
      "95  GlobeNewswire           Thoughtspot   \n",
      "96       Phoronix       Michael Larabel   \n",
      "97    VentureBeat        Dean Takahashi   \n",
      "98  GlobeNewswire  Research And Markets   \n",
      "99      TechRadar            Craig Hale   \n",
      "\n",
      "                                           News Title  \\\n",
      "0   AI content licensing outfit Calliope Networks ...   \n",
      "1   This AI-Powered Oral-B Electric Toothbrush Is ...   \n",
      "2   Trovati e raccolti diversi corpi a Damasco, Siria   \n",
      "3   Flipboard lauches Surf, a new app for browing ...   \n",
      "4   S25 Ultra Will Have The Slimmest Bezels Yet; C...   \n",
      "..                                                ...   \n",
      "95  ThoughtSpot Appoints Francois Lopitaux to Lead...   \n",
      "96  MemryX MX3 M.2 Module Delivers Nice AI Perform...   \n",
      "97  Vgames raises $142M for its third fund for gaming   \n",
      "98  Construction Machinery (Concrete, Earthmoving,...   \n",
      "99  Google's business AI coding platform now suppo...   \n",
      "\n",
      "                                                  URL       Date Published  \\\n",
      "0   https://www.c21media.net/news/ai-content-licen...  2024-12-18 16:30:16   \n",
      "1   https://gizmodo.com/this-ai-powered-oral-b-ele...  2024-12-18 16:30:13   \n",
      "2   https://www.ansa.it/sito/photogallery/primopia...  2024-12-18 16:30:06   \n",
      "3   https://techcrunch.com/2024/12/18/flipboard-la...  2024-12-18 16:30:00   \n",
      "4   https://www.talkandroid.com/496672-s25-ultra-t...  2024-12-18 16:30:00   \n",
      "..                                                ...                  ...   \n",
      "95  https://www.globenewswire.com/news-release/202...  2024-12-18 16:00:00   \n",
      "96      https://www.phoronix.com/review/memryx-mx3-m2  2024-12-18 16:00:00   \n",
      "97  https://venturebeat.com/games/vgames-raises-14...  2024-12-18 16:00:00   \n",
      "98  https://www.globenewswire.com/news-release/202...  2024-12-18 16:00:00   \n",
      "99  https://www.techradar.com/pro/googles-business...  2024-12-18 16:00:00   \n",
      "\n",
      "                                              Content  \n",
      "0   This premium content is only accessible with t...  \n",
      "1   If you were hoping to treat yourself to someth...  \n",
      "2   Se hai scelto di non accettare i cookie di pro...  \n",
      "3   Social magazine app maker Flipboard is reinven...  \n",
      "4   Samsung's Galaxy S25 Ultra is set to launch in...  \n",
      "..                                                ...  \n",
      "95  MOUNTAIN VIEW, Calif., Dec. 18, 2024 (GLOBE NE...  \n",
      "96  While there are a growing number of startups o...  \n",
      "97  Vgames raised $142 million for its third fund ...  \n",
      "98  Dublin, Dec. 18, 2024 (GLOBE NEWSWIRE) -- The ...  \n",
      "99  <ul><li>Google launches Gemini Code Assist too...  \n",
      "\n",
      "[100 rows x 6 columns]\n"
     ]
    }
   ],
   "source": [
    "def transform_news_data(articles):\n",
    "    article_list = []\n",
    "    for i in articles:\n",
    "        article_list.append([value.get(\"name\", 0) if key == \"source\" else value for key, value in i.items() if key in [\"author\", \"title\", \"publishedAt\", \"content\", \"url\", \"source\"]])\n",
    "\n",
    "    df = pd.DataFrame(article_list, columns=[\"Source\", \"Author Name\", \"News Title\", \"URL\", \"Date Published\", \"Content\"])\n",
    "\n",
    "    df[\"Date Published\"] = pd.to_datetime(df[\"Date Published\"]).dt.strftime('%Y-%m-%d %H:%M:%S')\n",
    "    df[\"Author Name\"] = df[\"Author Name\"].apply(clean_author_column)\n",
    " \n",
    "    return df\n",
    "\n",
    "transformed_data = transform_news_data(articles)\n",
    "\n",
    "print(transformed_data)"
   ]
  },
  {
   "cell_type": "markdown",
   "metadata": {},
   "source": [
    "### Task 5: Load the Data into SQLite Database\n"
   ]
  },
  {
   "cell_type": "code",
   "execution_count": 12,
   "metadata": {},
   "outputs": [],
   "source": [
    "def load_news_data(data):\n",
    "    with sqlite3.connect(\"/usercode/news_data.sqlite\") as connection:\n",
    "        cursor = connection.cursor()\n",
    "        cursor.execute('''\n",
    "            CREATE TABLE IF NOT EXISTS news_table (\n",
    "                \"Source\" VARCHAR(30),\n",
    "                \"Author Name\" TEXT,\n",
    "                \"News Title\" TEXT,\n",
    "                \"URL\" TEXT,\n",
    "                \"Date Published\" TEXT,\n",
    "                \"Content\" TEXT\n",
    "            )\n",
    "        ''')\n",
    "    data.to_sql(name=\"news_table\", con=connection, index=False, if_exists=\"append\")\n",
    " \n",
    "load_news_data(transformed_data)"
   ]
  },
  {
   "cell_type": "markdown",
   "metadata": {},
   "source": [
    "### Task 8: Verify Data Loading"
   ]
  },
  {
   "cell_type": "code",
   "execution_count": 3,
   "metadata": {},
   "outputs": [
    {
     "data": {
      "text/html": [
       "<div>\n",
       "<style scoped>\n",
       "    .dataframe tbody tr th:only-of-type {\n",
       "        vertical-align: middle;\n",
       "    }\n",
       "\n",
       "    .dataframe tbody tr th {\n",
       "        vertical-align: top;\n",
       "    }\n",
       "\n",
       "    .dataframe thead th {\n",
       "        text-align: right;\n",
       "    }\n",
       "</style>\n",
       "<table border=\"1\" class=\"dataframe\">\n",
       "  <thead>\n",
       "    <tr style=\"text-align: right;\">\n",
       "      <th></th>\n",
       "      <th>Source</th>\n",
       "      <th>Author Name</th>\n",
       "      <th>News Title</th>\n",
       "      <th>URL</th>\n",
       "      <th>Date Published</th>\n",
       "      <th>Content</th>\n",
       "    </tr>\n",
       "  </thead>\n",
       "  <tbody>\n",
       "    <tr>\n",
       "      <th>0</th>\n",
       "      <td>Wired</td>\n",
       "      <td>Will Knight</td>\n",
       "      <td>Botto, the Millionaire AI Artist, Is Getting a...</td>\n",
       "      <td>https://www.wired.com/story/botto-the-milliona...</td>\n",
       "      <td>2024-12-18 17:00:00</td>\n",
       "      <td>Its an interesting idea, and it is fun to see ...</td>\n",
       "    </tr>\n",
       "    <tr>\n",
       "      <th>1</th>\n",
       "      <td>[Removed]</td>\n",
       "      <td>No Author</td>\n",
       "      <td>[Removed]</td>\n",
       "      <td>https://removed.com</td>\n",
       "      <td>2024-12-18 13:30:29</td>\n",
       "      <td>[Removed]</td>\n",
       "    </tr>\n",
       "    <tr>\n",
       "      <th>2</th>\n",
       "      <td>Wired</td>\n",
       "      <td>Molly Higgins</td>\n",
       "      <td>Petkit Purobot Ultra Review: Taking Litter Box...</td>\n",
       "      <td>https://www.wired.com/review/petkit-purobot-ul...</td>\n",
       "      <td>2024-12-18 14:04:00</td>\n",
       "      <td>Screenshots courtesy of Molly Higgins\\r\\nSeein...</td>\n",
       "    </tr>\n",
       "    <tr>\n",
       "      <th>3</th>\n",
       "      <td>Gizmodo.com</td>\n",
       "      <td>Mike Fazioli</td>\n",
       "      <td>Samsung Galaxy Watch 7 Is Yours for Under $100...</td>\n",
       "      <td>https://gizmodo.com/samsung-galaxy-watch-7-is-...</td>\n",
       "      <td>2024-12-18 15:30:38</td>\n",
       "      <td>If you’re one of the many people nervously eye...</td>\n",
       "    </tr>\n",
       "    <tr>\n",
       "      <th>4</th>\n",
       "      <td>The Verge</td>\n",
       "      <td>Chris Welch</td>\n",
       "      <td>LG will bring its wireless TV tech to Mini LED...</td>\n",
       "      <td>https://www.theverge.com/2024/12/18/24324162/l...</td>\n",
       "      <td>2024-12-18 14:31:22</td>\n",
       "      <td>LG will bring its wireless TV tech to Mini LED...</td>\n",
       "    </tr>\n",
       "  </tbody>\n",
       "</table>\n",
       "</div>"
      ],
      "text/plain": [
       "        Source    Author Name  \\\n",
       "0        Wired    Will Knight   \n",
       "1    [Removed]      No Author   \n",
       "2        Wired  Molly Higgins   \n",
       "3  Gizmodo.com   Mike Fazioli   \n",
       "4    The Verge    Chris Welch   \n",
       "\n",
       "                                          News Title  \\\n",
       "0  Botto, the Millionaire AI Artist, Is Getting a...   \n",
       "1                                          [Removed]   \n",
       "2  Petkit Purobot Ultra Review: Taking Litter Box...   \n",
       "3  Samsung Galaxy Watch 7 Is Yours for Under $100...   \n",
       "4  LG will bring its wireless TV tech to Mini LED...   \n",
       "\n",
       "                                                 URL       Date Published  \\\n",
       "0  https://www.wired.com/story/botto-the-milliona...  2024-12-18 17:00:00   \n",
       "1                                https://removed.com  2024-12-18 13:30:29   \n",
       "2  https://www.wired.com/review/petkit-purobot-ul...  2024-12-18 14:04:00   \n",
       "3  https://gizmodo.com/samsung-galaxy-watch-7-is-...  2024-12-18 15:30:38   \n",
       "4  https://www.theverge.com/2024/12/18/24324162/l...  2024-12-18 14:31:22   \n",
       "\n",
       "                                             Content  \n",
       "0  Its an interesting idea, and it is fun to see ...  \n",
       "1                                          [Removed]  \n",
       "2  Screenshots courtesy of Molly Higgins\\r\\nSeein...  \n",
       "3  If you’re one of the many people nervously eye...  \n",
       "4  LG will bring its wireless TV tech to Mini LED...  "
      ]
     },
     "execution_count": 3,
     "metadata": {},
     "output_type": "execute_result"
    }
   ],
   "source": [
    "with sqlite3.connect(\"/usercode/etl_news_data.sqlite\") as connection:\n",
    "    df = pd.read_sql(\"SELECT * FROM news_table;\", connection)\n",
    "df.head()"
   ]
  },
  {
   "cell_type": "code",
   "execution_count": null,
   "metadata": {},
   "outputs": [],
   "source": []
  }
 ],
 "metadata": {
  "kernelspec": {
   "display_name": "Python 3",
   "language": "python",
   "name": "python3"
  },
  "language_info": {
   "codemirror_mode": {
    "name": "ipython",
    "version": 3
   },
   "file_extension": ".py",
   "mimetype": "text/x-python",
   "name": "python",
   "nbconvert_exporter": "python",
   "pygments_lexer": "ipython3",
   "version": "3.8.10"
  },
  "orig_nbformat": 4,
  "vscode": {
   "interpreter": {
    "hash": "916dbcbb3f70747c44a77c7bcd40155683ae19c65e1c03b4aa3499c5328201f1"
   }
  }
 },
 "nbformat": 4,
 "nbformat_minor": 2
}
